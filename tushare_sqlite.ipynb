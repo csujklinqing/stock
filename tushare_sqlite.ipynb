{
 "cells": [
  {
   "cell_type": "code",
   "execution_count": null,
   "metadata": {},
   "outputs": [],
   "source": [
    "pip install tushare"
   ]
  },
  {
   "cell_type": "code",
   "execution_count": 6,
   "metadata": {},
   "outputs": [
    {
     "name": "stdout",
     "output_type": "stream",
     "text": [
      "5008\n",
      "sqlite open sucess!\n",
      "221129\n",
      "0 000001.SZ\n",
      "1 000002.SZ\n"
     ]
    }
   ],
   "source": [
    "import tushare as ts\n",
    "import pandas as pd\n",
    "import datetime\n",
    "import sqlite3\n",
    "\n",
    "pro = ts.pro_api('fc5ee2aabec9f7148bcdebac4049b1791777700c0b060a34d0ade298')\n",
    "ts.set_token('fc5ee2aabec9f7148bcdebac4049b1791777700c0b060a34d0ade298')\n",
    "\n",
    "stock_basic = pro.stock_basic(exchange='', list_status='L')\n",
    "stock_basic.to_csv('d:\\\\data\\\\tushare\\\\stock_basic.csv',index=False)\n",
    "code_count = len(stock_basic)\n",
    "print(code_count) \n",
    "\n",
    "conn = sqlite3.connect(\"tushare.db\")\n",
    "print(\"sqlite open sucess!\")\n",
    "cs = conn.cursor()\n",
    "\n",
    "now = datetime.datetime.now()\n",
    "today = now.strftime('%y%m%d')\n",
    "print(today) \n",
    "\n",
    "for i in range(2):\n",
    "    code = stock_basic.loc[i, 'ts_code']\n",
    "    print(i,code)\n",
    "    daily_basic = pro.daily_basic(ts_code=code, start_date='19900101', end_date=today)\n",
    "    fina = pro.query('fina_indicator_vip', ts_code=code, start_date='19900101', end_date=today)\n",
    "    hfq = ts.pro_bar(ts_code=code, adj='hfq', start_date='19900101', end_date=today)\n",
    "\n",
    "    daily_basic.to_sql('daily_basic',conn, if_exists='append', index=False)\n",
    "    fina.to_sql('fina',conn, if_exists='append', index=False)\n",
    "    hfq.to_sql('hfq',conn, if_exists='append', index=False)\n",
    "\n",
    "conn.close()\n",
    "\n"
   ]
  }
 ],
 "metadata": {
  "kernelspec": {
   "display_name": "Python 3.9.15 ('mario')",
   "language": "python",
   "name": "python3"
  },
  "language_info": {
   "codemirror_mode": {
    "name": "ipython",
    "version": 3
   },
   "file_extension": ".py",
   "mimetype": "text/x-python",
   "name": "python",
   "nbconvert_exporter": "python",
   "pygments_lexer": "ipython3",
   "version": "3.9.15"
  },
  "orig_nbformat": 4,
  "vscode": {
   "interpreter": {
    "hash": "1f5b6ebf985f74e5aee67104dc8aaf465e6b83ec0c0763dd9b7db4a5aa3db11a"
   }
  }
 },
 "nbformat": 4,
 "nbformat_minor": 2
}
