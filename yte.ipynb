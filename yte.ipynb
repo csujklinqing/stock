{
 "cells": [
  {
   "cell_type": "code",
   "execution_count": null,
   "metadata": {},
   "outputs": [],
   "source": [
    "import requests\n",
    "from bs4 import BeautifulSoup\n",
    "import pandas as pd\n",
    "url = \"https://www.yte1.com/datas/tansuanli-pri\"\n",
    "response = requests.get(url)\n",
    "bs = BeautifulSoup(response.text,'lxml')\n",
    "link = bs.find_all('li')\n",
    "data_list_table = [] #定义一个空列表\n",
    "for data in link:\n",
    "        data = str(data)\n",
    "        data = data.split('\">')\n",
    "        data = data[0].strip('<li><a href=\"')\n",
    "        data = 'https://www.yte1.com' + data\n",
    "        data_list_table.append(data) #获取标签的内容去掉两边空格并添加到列表里\n",
    "print(data_list_table)"
   ]
  }
 ],
 "metadata": {
  "kernelspec": {
   "display_name": "Python 3.9.15 ('mario')",
   "language": "python",
   "name": "python3"
  },
  "language_info": {
   "codemirror_mode": {
    "name": "ipython",
    "version": 3
   },
   "file_extension": ".py",
   "mimetype": "text/x-python",
   "name": "python",
   "nbconvert_exporter": "python",
   "pygments_lexer": "ipython3",
   "version": "3.9.15"
  },
  "orig_nbformat": 4,
  "vscode": {
   "interpreter": {
    "hash": "1f5b6ebf985f74e5aee67104dc8aaf465e6b83ec0c0763dd9b7db4a5aa3db11a"
   }
  }
 },
 "nbformat": 4,
 "nbformat_minor": 2
}
